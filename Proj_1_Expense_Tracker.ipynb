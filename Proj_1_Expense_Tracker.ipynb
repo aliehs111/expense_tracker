{
  "nbformat": 4,
  "nbformat_minor": 0,
  "metadata": {
    "colab": {
      "provenance": [],
      "authorship_tag": "ABX9TyMReeW0d+jgtpf6t3XFQ9Fl",
      "include_colab_link": true
    },
    "kernelspec": {
      "name": "python3",
      "display_name": "Python 3"
    },
    "language_info": {
      "name": "python"
    }
  },
  "cells": [
    {
      "cell_type": "markdown",
      "metadata": {
        "id": "view-in-github",
        "colab_type": "text"
      },
      "source": [
        "<a href=\"https://colab.research.google.com/github/aliehs111/expense_tracker/blob/main/Proj_1_Expense_Tracker.ipynb\" target=\"_parent\"><img src=\"https://colab.research.google.com/assets/colab-badge.svg\" alt=\"Open In Colab\"/></a>"
      ]
    },
    {
      "cell_type": "code",
      "execution_count": 24,
      "metadata": {
        "colab": {
          "base_uri": "https://localhost:8080/"
        },
        "id": "Y5rKo_-rywEA",
        "outputId": "4f1bf482-887f-476e-b5a4-ad6a1788e26a"
      },
      "outputs": [
        {
          "output_type": "stream",
          "name": "stdout",
          "text": [
            "Expense added to tracker\n",
            "[{'date': '2025-03-06', 'category': 'food', 'amount': 15.78, 'description': 'pizza'}]\n",
            "Invalid Category.  Please choose from these categories: ('housing', 'household', 'utilities', 'food', 'medical', 'entertainment', 'investment', 'education', 'pets', 'car', 'car maintenance', 'gas')\n",
            "[{'date': '2025-03-06', 'category': 'food', 'amount': 15.78, 'description': 'pizza'}]\n",
            "Invalid Date Format.  Please enter as YYYY-MM-DD\n",
            "[{'date': '2025-03-06', 'category': 'food', 'amount': 15.78, 'description': 'pizza'}]\n",
            "Expense added to tracker\n",
            "[{'date': '2025-03-06', 'category': 'food', 'amount': 15.78, 'description': 'pizza'}, {'date': '2025-03-03', 'category': 'utilities', 'amount': 700.0, 'description': 'electric bill'}]\n"
          ]
        }
      ],
      "source": [
        "import datetime\n",
        "\n",
        "\n",
        "expenses = []\n",
        "categories = (\"housing\", \"household\", \"utilities\", \"food\", \"medical\", \"entertainment\", \"investment\", \"education\", \"pets\", \"car\", \"car maintenance\", \"gas\")\n",
        "\n",
        "#check if date is correct format\n",
        "def valid_date(date_str):\n",
        "   try:\n",
        "       datetime.datetime.strptime(date_str, \"%Y-%m-%d\")\n",
        "       return True\n",
        "   except ValueError:\n",
        "      return False\n",
        "\n",
        "\n",
        "\n",
        "#enter an expense\n",
        "\n",
        "def add_expense(date, category, amount, description):\n",
        "   if category not in categories:\n",
        "      print(\"Invalid Category.  Please choose from these categories:\", categories)\n",
        "      return\n",
        "   #if date is not correct format\n",
        "   if not valid_date(date):\n",
        "       print(\"Invalid Date Format.  Please enter as YYYY-MM-DD\")\n",
        "       return\n",
        "   #create an expense dictionary once the user input is validated\n",
        "   expense = {\n",
        "       \"date\": date,\n",
        "       \"category\": category,\n",
        "       \"amount\": amount,\n",
        "       \"description\": description\n",
        "   }\n",
        "\n",
        "   #add this expense to the current expense list\n",
        "\n",
        "   expenses.append(expense)\n",
        "   print(\"Expense added to tracker\")\n",
        "\n",
        "# test valid and invalid entries\n",
        "add_expense(\"2025-03-06\", \"food\", 15.78, \"pizza\")\n",
        "print(expenses)\n",
        "\n",
        "add_expense(\"2025-03-06\", \"plant\", 14.36, \"pothos\")\n",
        "print(expenses)\n",
        "\n",
        "add_expense(\"03-05-25\", \"car maintenance\", 500.25, \"tires\")\n",
        "print(expenses)\n",
        "\n",
        "add_expense(\"2025-03-03\", \"utilities\", 700.00, \"electric bill\")\n",
        "print(expenses)\n"
      ]
    },
    {
      "cell_type": "code",
      "source": [
        "#view expenses function\n",
        "def view_expenses():\n",
        "  if not expenses:\n",
        "    print(\"No expenses to display\")\n",
        "    return\n",
        "\n",
        "#look for expenses to display\n",
        "  for expense in expenses:\n",
        "      print(\"Date:\", expense[\"date\"])\n",
        "      print(\"Category:\", expense[\"category\"])\n",
        "      print(\"Amount:\", expense[\"amount\"])\n",
        "      print(\"Description\", expense[\"description\"])\n",
        "      print(\"-\" * 30)\n",
        "\n",
        "#call function\n",
        "view_expenses()"
      ],
      "metadata": {
        "colab": {
          "base_uri": "https://localhost:8080/"
        },
        "id": "e3sK0AjXdhdo",
        "outputId": "fe226743-17e5-4d41-9976-edfebe763b75"
      },
      "execution_count": 25,
      "outputs": [
        {
          "output_type": "stream",
          "name": "stdout",
          "text": [
            "Date: 2025-03-06\n",
            "Category: food\n",
            "Amount: 15.78\n",
            "Description pizza\n",
            "------------------------------\n",
            "Date: 2025-03-03\n",
            "Category: utilities\n",
            "Amount: 700.0\n",
            "Description electric bill\n",
            "------------------------------\n"
          ]
        }
      ]
    },
    {
      "cell_type": "code",
      "source": [
        "#budget management (create budget function)\n",
        "monthly_budgets = {}\n",
        "\n",
        "def set_monthly_budget(category):\n",
        "#prompt user to enter a monthly amount for each category\n",
        "   budget_input = input(f\"Please enter your monthly budget for {category}: \")\n",
        "\n",
        "   try:\n",
        "      budget = float(budget_input)\n",
        "      monthly_budgets[category] = budget\n",
        "      print(f\"Budget for {category} set to {budget}.\")\n",
        "   except ValueError:\n",
        "      print(\"invalid entry.  Please enter a numeric value with no special characters and two decimal points\")\n",
        "\n",
        "#test function with valid and invalid entries\n",
        "set_monthly_budget(\"food\")\n",
        "print(monthly_budgets)\n",
        "\n"
      ],
      "metadata": {
        "colab": {
          "base_uri": "https://localhost:8080/"
        },
        "id": "iAvO4Tnik5zH",
        "outputId": "1f8f990d-86f2-4d53-dcab-695311a36586"
      },
      "execution_count": 27,
      "outputs": [
        {
          "output_type": "stream",
          "name": "stdout",
          "text": [
            "Please enter your monthly budget for food: 200\n",
            "Budget for food set to 200.0.\n",
            "{'food': 200.0}\n"
          ]
        }
      ]
    },
    {
      "cell_type": "code",
      "source": [
        "#saving and reloading using the csv module\n",
        "import csv\n",
        "import datetime\n",
        "# for the test\n",
        "today = datetime.datetime.now().strftime(\"%Y-%m-%d\")\n",
        "filename = f\"testexpenses_{today}.csv\"\n",
        "#function to save data to csv file\n",
        "def save_expenses(filename, expenses):\n",
        "   fieldnames = [\"date\", \"category\", \"amount\", \"description\"]\n",
        "   with open(filename, mode=\"w\", newline=\"\") as csvfile:\n",
        "      writer = csv.DictWriter(csvfile, fieldnames=fieldnames)\n",
        "      writer.writeheader() #write the header row\n",
        "      for expense in expenses:\n",
        "          writer.writerow(expense)\n",
        "   print(f\"Expenses have been saved to {filename}\")\n",
        "\n",
        "save_expenses(filename, expenses)\n",
        "\n",
        "#function to load the budget\n",
        "def load_expenses(filename):\n",
        "    loaded_expenses = []\n",
        "    with open(filename, mode=\"r\", newline=\"\") as csvfile:\n",
        "       reader = csv.DictReader(csvfile)\n",
        "       for row in reader:\n",
        "           row[\"amount\"] = float(row[\"amount\"])\n",
        "           loaded_expenses.append(row)\n",
        "    print(f\"Expenses loaded from {filename}\")\n",
        "    return loaded_expenses\n",
        "load_expenses(filename)"
      ],
      "metadata": {
        "colab": {
          "base_uri": "https://localhost:8080/"
        },
        "id": "dtZaBoq6c6Jq",
        "outputId": "295a21b7-cb8c-47ab-acb0-6af308617958"
      },
      "execution_count": 49,
      "outputs": [
        {
          "output_type": "stream",
          "name": "stdout",
          "text": [
            "Expenses have been saved to testexpenses_2025-03-07.csv\n",
            "Expenses loaded from testexpenses_2025-03-07.csv\n"
          ]
        },
        {
          "output_type": "execute_result",
          "data": {
            "text/plain": [
              "[{'date': '2025-03-06',\n",
              "  'category': 'food',\n",
              "  'amount': 15.78,\n",
              "  'description': 'pizza'},\n",
              " {'date': '2025-03-03',\n",
              "  'category': 'utilities',\n",
              "  'amount': 700.0,\n",
              "  'description': 'electric bill'}]"
            ]
          },
          "metadata": {},
          "execution_count": 49
        }
      ]
    },
    {
      "cell_type": "code",
      "source": [
        "#main menu\n",
        "def main_menu():\n",
        "  expenses = load_expenses(filename) if os.path.exists(filename) else [] #not sure if this is a good idea - will it overwrite anything?\n",
        "  while True:\n",
        "    print(\"\\nExpense Tracker Main Menu\")\n",
        "    print(\"Add Expense\")\n",
        "    print(\"View Expenses\")\n",
        "    print(\"Save Expenses\")\n",
        "    print(\"Create Monthly Budget\")\n",
        "    print(\"Modify Monthly Budget\")\n",
        "    print(\"Exit\")\n",
        "    choice = input(\"Select an option: \")\n",
        "\n",
        "    if choice == \"Add Expense\":\n",
        "      date = input(\"Enter date (YYYY-MM-DD): \")"
      ],
      "metadata": {
        "id": "0d9TCqIVhDhM"
      },
      "execution_count": null,
      "outputs": []
    }
  ]
}