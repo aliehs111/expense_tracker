{
  "nbformat": 4,
  "nbformat_minor": 0,
  "metadata": {
    "colab": {
      "provenance": [],
      "authorship_tag": "ABX9TyN2vyhU8BbFZwb0uxbBaEJQ",
      "include_colab_link": true
    },
    "kernelspec": {
      "name": "python3",
      "display_name": "Python 3"
    },
    "language_info": {
      "name": "python"
    }
  },
  "cells": [
    {
      "cell_type": "markdown",
      "metadata": {
        "id": "view-in-github",
        "colab_type": "text"
      },
      "source": [
        "<a href=\"https://colab.research.google.com/github/aliehs111/expense_tracker/blob/main/Proj_1_Expense_Tracker.ipynb\" target=\"_parent\"><img src=\"https://colab.research.google.com/assets/colab-badge.svg\" alt=\"Open In Colab\"/></a>"
      ]
    },
    {
      "cell_type": "code",
      "execution_count": 9,
      "metadata": {
        "colab": {
          "base_uri": "https://localhost:8080/"
        },
        "id": "Y5rKo_-rywEA",
        "outputId": "c779ad95-2d17-49dd-b5b6-9f637cf0cb5e"
      },
      "outputs": [
        {
          "output_type": "stream",
          "name": "stdout",
          "text": [
            "Expense added to tracker\n",
            "[{'date': '2025-03-06', 'category': 'food', 'amount': 15.78, 'description': 'pizza'}]\n",
            "Invalid Category.  Please choose from these categories: ('housing', 'household', 'utilities', 'food', 'medical', 'entertainment', 'investment', 'education', 'pets', 'car', 'car maintenance', 'gas')\n",
            "[{'date': '2025-03-06', 'category': 'food', 'amount': 15.78, 'description': 'pizza'}]\n",
            "Invalid Date Format.  Please enter as YYYY-MM-DD\n",
            "[{'date': '2025-03-06', 'category': 'food', 'amount': 15.78, 'description': 'pizza'}]\n",
            "Expense added to tracker\n",
            "[{'date': '2025-03-06', 'category': 'food', 'amount': 15.78, 'description': 'pizza'}, {'date': '2025-03-03', 'category': 'utilities', 'amount': 700.0, 'description': 'electric bill'}]\n"
          ]
        }
      ],
      "source": [
        "import datetime\n",
        "\n",
        "\n",
        "expenses = []\n",
        "categories = (\"housing\", \"household\", \"utilities\", \"food\", \"medical\", \"entertainment\", \"investment\", \"education\", \"pets\", \"car\", \"car maintenance\", \"gas\")\n",
        "\n",
        "#check if date is correct format\n",
        "def valid_date(date_str):\n",
        "   try:\n",
        "       datetime.datetime.strptime(date_str, \"%Y-%m-%d\")\n",
        "       return True\n",
        "   except ValueError:\n",
        "      return False\n",
        "\n",
        "\n",
        "\n",
        "#enter an expense\n",
        "\n",
        "def add_expense(date, category, amount, description):\n",
        "   if category not in categories:\n",
        "      print(\"Invalid Category.  Please choose from these categories:\", categories)\n",
        "      return\n",
        "   #if date is not correct format\n",
        "   if not valid_date(date):\n",
        "       print(\"Invalid Date Format.  Please enter as YYYY-MM-DD\")\n",
        "       return\n",
        "   #create an expense dictionary once the user input is validated\n",
        "   expense = {\n",
        "       \"date\": date,\n",
        "       \"category\": category,\n",
        "       \"amount\": amount,\n",
        "       \"description\": description\n",
        "   }\n",
        "\n",
        "   #add this expense to the current expense list\n",
        "\n",
        "   expenses.append(expense)\n",
        "   print(\"Expense added to tracker\")\n",
        "\n",
        "# test valid and invalid entries\n",
        "add_expense(\"2025-03-06\", \"food\", 15.78, \"pizza\")\n",
        "print(expenses)\n",
        "\n",
        "add_expense(\"2025-03-06\", \"plant\", 14.36, \"pothos\")\n",
        "print(expenses)\n",
        "\n",
        "add_expense(\"03-05-25\", \"car maintenance\", 500.25, \"tires\")\n",
        "print(expenses)\n",
        "\n",
        "add_expense(\"2025-03-03\", \"utilities\", 700.00, \"electric bill\")\n",
        "print(expenses)\n"
      ]
    },
    {
      "cell_type": "code",
      "source": [
        "#view expenses function\n",
        "def view_expenses():\n",
        "  if not expenses:\n",
        "    print(\"No expenses to display\")\n",
        "    return\n",
        "\n",
        "#look for expenses to display\n",
        "  for expense in expenses:\n",
        "      print(\"Date:\", expense[\"date\"])\n",
        "      print(\"Category:\", expense[\"category\"])\n",
        "      print(\"Amount:\", expense[\"amount\"])\n",
        "      print(\"Description\", expense[\"description\"])\n",
        "      print(\"-\" * 30)\n",
        "\n",
        "#call function\n",
        "view_expenses()"
      ],
      "metadata": {
        "colab": {
          "base_uri": "https://localhost:8080/"
        },
        "id": "e3sK0AjXdhdo",
        "outputId": "e826c984-f432-45b5-91fd-c3835194b8eb"
      },
      "execution_count": 5,
      "outputs": [
        {
          "output_type": "stream",
          "name": "stdout",
          "text": [
            "Date: 2025-03-06\n",
            "Category: food\n",
            "Amount: 15.78\n",
            "Description pizza\n",
            "------------------------------\n",
            "Date: 2025-03-03\n",
            "Category: utilities\n",
            "Amount: 700.0\n",
            "Description electric bill\n",
            "------------------------------\n"
          ]
        }
      ]
    },
    {
      "cell_type": "code",
      "source": [
        "#budget management (create budget function)\n",
        "monthly_budgets = {}\n",
        "\n",
        "def set_monthly_budget(category):\n",
        "#prompt user to enter a monthly amount for each category\n",
        "   budget_input = input(f\"Please enter your monthly budget for {category}: \")\n",
        "\n",
        "   try:\n",
        "      budget = float(budget_input)\n",
        "      monthly_budgets[category] = budget\n",
        "      print(f\"Budget for {category} set to {budget}.\")\n",
        "   except ValueError:\n",
        "      print(\"invalid entry.  Please enter a numeric value with no special characters and two decimal points\")\n",
        "\n",
        "#test function with valid and invalid entries\n",
        "set_monthly_budget(\"food\")\n",
        "print(monthly_budgets)\n",
        "\n"
      ],
      "metadata": {
        "colab": {
          "base_uri": "https://localhost:8080/"
        },
        "id": "iAvO4Tnik5zH",
        "outputId": "b4a6cd85-dff1-412b-a8f8-c4973d6e03ec"
      },
      "execution_count": 6,
      "outputs": [
        {
          "output_type": "stream",
          "name": "stdout",
          "text": [
            "Please enter your monthly budget for food: 500\n",
            "Budget for food set to 500.0.\n",
            "{'food': 500.0}\n"
          ]
        }
      ]
    },
    {
      "cell_type": "code",
      "source": [
        "#saving and reloading using the csv module\n",
        "import csv\n",
        "import datetime\n",
        "# for the test\n",
        "today = datetime.datetime.now().strftime(\"%Y-%m-%d\")\n",
        "filename = f\"testexpenses_{today}.csv\"\n",
        "#function to save data to csv file\n",
        "def save_expenses(filename, expenses):\n",
        "   fieldnames = [\"date\", \"category\", \"amount\", \"description\"]\n",
        "   with open(filename, mode=\"w\", newline=\"\") as csvfile:\n",
        "      writer = csv.DictWriter(csvfile, fieldnames=fieldnames)\n",
        "      writer.writeheader() #write the header row\n",
        "      for expense in expenses:\n",
        "          writer.writerow(expense)\n",
        "   print(f\"Expenses have been saved to {filename}\")\n",
        "\n",
        "save_expenses(filename, expenses)\n",
        "\n",
        "#function to load the budget\n",
        "def load_expenses(filename):\n",
        "    loaded_expenses = []\n",
        "    with open(filename, mode=\"r\", newline=\"\") as csvfile:\n",
        "       reader = csv.DictReader(csvfile)\n",
        "       for row in reader:\n",
        "           row[\"amount\"] = float(row[\"amount\"])\n",
        "           loaded_expenses.append(row)\n",
        "    print(f\"Expenses loaded from {filename}\")\n",
        "    return loaded_expenses\n",
        "load_expenses(filename)"
      ],
      "metadata": {
        "colab": {
          "base_uri": "https://localhost:8080/"
        },
        "id": "dtZaBoq6c6Jq",
        "outputId": "4ce8dfc0-5bfe-4b01-9793-93fb46a1b364"
      },
      "execution_count": 7,
      "outputs": [
        {
          "output_type": "stream",
          "name": "stdout",
          "text": [
            "Expenses have been saved to testexpenses_2025-03-07.csv\n",
            "Expenses loaded from testexpenses_2025-03-07.csv\n"
          ]
        },
        {
          "output_type": "execute_result",
          "data": {
            "text/plain": [
              "[{'date': '2025-03-06',\n",
              "  'category': 'food',\n",
              "  'amount': 15.78,\n",
              "  'description': 'pizza'},\n",
              " {'date': '2025-03-03',\n",
              "  'category': 'utilities',\n",
              "  'amount': 700.0,\n",
              "  'description': 'electric bill'}]"
            ]
          },
          "metadata": {},
          "execution_count": 7
        }
      ]
    },
    {
      "cell_type": "code",
      "source": [
        "#prompt from main menu fuctions\n",
        "prompt_add_expense()"
      ],
      "metadata": {
        "id": "2jqXeHArdABj"
      },
      "execution_count": null,
      "outputs": []
    },
    {
      "cell_type": "code",
      "source": [
        "#main menu\n",
        "def main_menu():\n",
        "\n",
        "  while True:\n",
        "    print(\"\\nExpense Tracker Main Menu\")\n",
        "    print(\"Add Expense\")\n",
        "    print(\"View Expenses\")\n",
        "    print(\"Save Expenses\")\n",
        "    print(\"Create Monthly Budget\")\n",
        "    print(\"Modify Monthly Budget\")\n",
        "    print(\"Exit\")\n",
        "    choice = input(\"Select an option: \").strip().lower()\n",
        "\n",
        "    if choice == \"add expense\":\n",
        "       add_expense()\n",
        "    elif choice == \"view expenses\":\n",
        "        view_expenses()\n",
        "    elif choice == \"save expenses\":\n",
        "        save_expenses()\n",
        "    elif choice == \"create monthly budget\":\n",
        "        create_monthly_budget()\n",
        "    elif choice == \"modify monthly budget\":\n",
        "        modify_monthly_budget()\n",
        "    elif choice == \"exit\":\n",
        "        exit()\n",
        "    else:\n",
        "        print(\"Invalid Selection. Check your spelling and try again.\")\n",
        "main_menu()\n",
        ""
      ],
      "metadata": {
        "id": "0d9TCqIVhDhM",
        "colab": {
          "base_uri": "https://localhost:8080/",
          "height": 488
        },
        "outputId": "89fc37ac-9e95-4703-e4de-865c6e873a5a"
      },
      "execution_count": 8,
      "outputs": [
        {
          "name": "stdout",
          "output_type": "stream",
          "text": [
            "\n",
            "Expense Tracker Main Menu\n",
            "Add Expense\n",
            "View Expenses\n",
            "Save Expenses\n",
            "Create Monthly Budget\n",
            "Modify Monthly Budget\n",
            "Exit\n",
            "Select an option: add expense\n"
          ]
        },
        {
          "output_type": "error",
          "ename": "TypeError",
          "evalue": "add_expense() missing 4 required positional arguments: 'date', 'category', 'amount', and 'description'",
          "traceback": [
            "\u001b[0;31m---------------------------------------------------------------------------\u001b[0m",
            "\u001b[0;31mTypeError\u001b[0m                                 Traceback (most recent call last)",
            "\u001b[0;32m<ipython-input-8-2bc673ea4052>\u001b[0m in \u001b[0;36m<cell line: 0>\u001b[0;34m()\u001b[0m\n\u001b[1;32m     26\u001b[0m     \u001b[0;32melse\u001b[0m\u001b[0;34m:\u001b[0m\u001b[0;34m\u001b[0m\u001b[0;34m\u001b[0m\u001b[0m\n\u001b[1;32m     27\u001b[0m         \u001b[0mprint\u001b[0m\u001b[0;34m(\u001b[0m\u001b[0;34m\"Invalid Selection. Check your spelling and try again.\"\u001b[0m\u001b[0;34m)\u001b[0m\u001b[0;34m\u001b[0m\u001b[0;34m\u001b[0m\u001b[0m\n\u001b[0;32m---> 28\u001b[0;31m \u001b[0mmain_menu\u001b[0m\u001b[0;34m(\u001b[0m\u001b[0;34m)\u001b[0m\u001b[0;34m\u001b[0m\u001b[0;34m\u001b[0m\u001b[0m\n\u001b[0m\u001b[1;32m     29\u001b[0m \u001b[0;34m\u001b[0m\u001b[0m\n",
            "\u001b[0;32m<ipython-input-8-2bc673ea4052>\u001b[0m in \u001b[0;36mmain_menu\u001b[0;34m()\u001b[0m\n\u001b[1;32m     13\u001b[0m \u001b[0;34m\u001b[0m\u001b[0m\n\u001b[1;32m     14\u001b[0m     \u001b[0;32mif\u001b[0m \u001b[0mchoice\u001b[0m \u001b[0;34m==\u001b[0m \u001b[0;34m\"add expense\"\u001b[0m\u001b[0;34m:\u001b[0m\u001b[0;34m\u001b[0m\u001b[0;34m\u001b[0m\u001b[0m\n\u001b[0;32m---> 15\u001b[0;31m        \u001b[0madd_expense\u001b[0m\u001b[0;34m(\u001b[0m\u001b[0;34m)\u001b[0m\u001b[0;34m\u001b[0m\u001b[0;34m\u001b[0m\u001b[0m\n\u001b[0m\u001b[1;32m     16\u001b[0m     \u001b[0;32melif\u001b[0m \u001b[0mchoice\u001b[0m \u001b[0;34m==\u001b[0m \u001b[0;34m\"view expenses\"\u001b[0m\u001b[0;34m:\u001b[0m\u001b[0;34m\u001b[0m\u001b[0;34m\u001b[0m\u001b[0m\n\u001b[1;32m     17\u001b[0m         \u001b[0mview_expenses\u001b[0m\u001b[0;34m(\u001b[0m\u001b[0;34m)\u001b[0m\u001b[0;34m\u001b[0m\u001b[0;34m\u001b[0m\u001b[0m\n",
            "\u001b[0;31mTypeError\u001b[0m: add_expense() missing 4 required positional arguments: 'date', 'category', 'amount', and 'description'"
          ]
        }
      ]
    },
    {
      "cell_type": "code",
      "source": [],
      "metadata": {
        "id": "kiVv9aj2g0tM"
      },
      "execution_count": null,
      "outputs": []
    }
  ]
}