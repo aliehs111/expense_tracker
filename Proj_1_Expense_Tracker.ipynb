{
  "nbformat": 4,
  "nbformat_minor": 0,
  "metadata": {
    "colab": {
      "provenance": [],
      "authorship_tag": "ABX9TyN4zQo3nnsIsZ2RO4L2gYho",
      "include_colab_link": true
    },
    "kernelspec": {
      "name": "python3",
      "display_name": "Python 3"
    },
    "language_info": {
      "name": "python"
    }
  },
  "cells": [
    {
      "cell_type": "markdown",
      "metadata": {
        "id": "view-in-github",
        "colab_type": "text"
      },
      "source": [
        "<a href=\"https://colab.research.google.com/github/aliehs111/expense_tracker/blob/main/Proj_1_Expense_Tracker.ipynb\" target=\"_parent\"><img src=\"https://colab.research.google.com/assets/colab-badge.svg\" alt=\"Open In Colab\"/></a>"
      ]
    },
    {
      "cell_type": "code",
      "execution_count": 66,
      "metadata": {
        "colab": {
          "base_uri": "https://localhost:8080/"
        },
        "id": "Y5rKo_-rywEA",
        "outputId": "ac358632-857c-4bce-d9bb-c75f59e16548"
      },
      "outputs": [
        {
          "output_type": "stream",
          "name": "stdout",
          "text": [
            "Expense added to tracker\n",
            "[{'date': '2025-03-06', 'category': 'food', 'amount': 15.78, 'description': 'pizza'}]\n",
            "Invalid Category.  Please choose from these categories: ('housing', 'household', 'utilities', 'food', 'medical', 'entertainment', 'investment', 'education', 'pets', 'car', 'car maintenance', 'gas')\n",
            "[{'date': '2025-03-06', 'category': 'food', 'amount': 15.78, 'description': 'pizza'}]\n",
            "Invalid Date Format.  Please enter as YYYY-MM-DD\n",
            "[{'date': '2025-03-06', 'category': 'food', 'amount': 15.78, 'description': 'pizza'}]\n",
            "Expense added to tracker\n",
            "[{'date': '2025-03-06', 'category': 'food', 'amount': 15.78, 'description': 'pizza'}, {'date': '2025-03-03', 'category': 'utilities', 'amount': 700.0, 'description': 'electric bill'}]\n"
          ]
        }
      ],
      "source": [
        "import datetime\n",
        "\n",
        "\n",
        "expenses = []\n",
        "categories = (\"housing\", \"household\", \"utilities\", \"food\", \"medical\", \"entertainment\", \"investment\", \"education\", \"pets\", \"car\", \"car maintenance\", \"gas\")\n",
        "\n",
        "#check if date is correct format\n",
        "def valid_date(date_str):\n",
        "   try:\n",
        "       datetime.datetime.strptime(date_str, \"%Y-%m-%d\")\n",
        "       return True\n",
        "   except ValueError:\n",
        "      return False\n",
        "\n",
        "\n",
        "\n",
        "#enter an expense\n",
        "\n",
        "def add_expense(date, category, amount, description):\n",
        "   if category not in categories:\n",
        "      print(\"Invalid Category.  Please choose from these categories:\", categories)\n",
        "      return\n",
        "   #if date is not correct format\n",
        "   if not valid_date(date):\n",
        "       print(\"Invalid Date Format.  Please enter as YYYY-MM-DD\")\n",
        "       return\n",
        "   #create an expense dictionary once the user input is validated\n",
        "   expense = {\n",
        "       \"date\": date,\n",
        "       \"category\": category,\n",
        "       \"amount\": amount,\n",
        "       \"description\": description\n",
        "   }\n",
        "\n",
        "   #add this expense to the current expense list\n",
        "\n",
        "   expenses.append(expense)\n",
        "   print(\"Expense added to tracker\")\n",
        "\n",
        "# test valid and invalid entries\n",
        "add_expense(\"2025-03-06\", \"food\", 15.78, \"pizza\")\n",
        "print(expenses)\n",
        "\n",
        "add_expense(\"2025-03-06\", \"plant\", 14.36, \"pothos\")\n",
        "print(expenses)\n",
        "\n",
        "add_expense(\"03-05-25\", \"car maintenance\", 500.25, \"tires\")\n",
        "print(expenses)\n",
        "\n",
        "add_expense(\"2025-03-03\", \"utilities\", 700.00, \"electric bill\")\n",
        "print(expenses)\n"
      ]
    },
    {
      "cell_type": "code",
      "source": [
        "#view expenses function\n",
        "def view_expenses():\n",
        "  if not expenses:\n",
        "    print(\"No expenses to display\")\n",
        "    return\n",
        "\n",
        "#look for expenses to display\n",
        "  for expense in expenses:\n",
        "      print(\"Date:\", expense[\"date\"])\n",
        "      print(\"Category:\", expense[\"category\"])\n",
        "      print(\"Amount:\", expense[\"amount\"])\n",
        "      print(\"Description\", expense[\"description\"])\n",
        "      print(\"-\" * 30)\n",
        "\n",
        "#call function\n",
        "view_expenses()"
      ],
      "metadata": {
        "colab": {
          "base_uri": "https://localhost:8080/"
        },
        "id": "e3sK0AjXdhdo",
        "outputId": "bee59b38-7552-4909-9ca6-fed12a3baa78"
      },
      "execution_count": null,
      "outputs": [
        {
          "output_type": "stream",
          "name": "stdout",
          "text": [
            "Date: 2025-03-06\n",
            "Category: food\n",
            "Amount: 15.78\n",
            "Description pizza\n",
            "------------------------------\n",
            "Date: 2025-03-03\n",
            "Category: utilities\n",
            "Amount: 700.0\n",
            "Description electric bill\n",
            "------------------------------\n",
            "Date: 2025-03-07\n",
            "Category: food\n",
            "Amount: 25.0\n",
            "Description fish fry\n",
            "------------------------------\n"
          ]
        }
      ]
    },
    {
      "cell_type": "code",
      "source": [
        "#budget management (create budget function)\n",
        "monthly_budgets = {}\n",
        "\n",
        "def set_monthly_budget(category, amount):\n",
        "   if category not in categories:\n",
        "      print(\"Invalid Category.  Please choose from these categories:\", categories)\n",
        "      return\n",
        "   monthly_budgets[category] = amount\n",
        "   print(f\"Monthly budget for {category} has been set to {amount}\")\n",
        "\n",
        "\n",
        "def modify_monthly_budget(category, new_amount):\n",
        "    global monthly_budgets\n",
        "    if category in monthly_budgets:\n",
        "        monthly_budgets[category] = new_amount\n",
        "        print(f\"Budget for {category} modified to {new_amount}.\")\n",
        "    else:\n",
        "      print(\"Category not found in monthly budgets.  Please choose from {category}\")"
      ],
      "metadata": {
        "id": "iAvO4Tnik5zH"
      },
      "execution_count": 69,
      "outputs": []
    },
    {
      "cell_type": "code",
      "source": [
        "#prompt functions to work from main menu - use these for user input then go to actual function to do input verification and to populate the dictionaries with input.\n",
        "def prompt_add_expense():\n",
        "  date = input(\"Enter date (YYY-MM_DD): \")\n",
        "  category = input (\"Enter category: \")\n",
        "  try:\n",
        "       amount = float(input(\"Enter amount: \"))\n",
        "  except ValueError:\n",
        "    print(\"Invalid amount.  Please enter a numeric amount with no special characters\")\n",
        "    return\n",
        "  description = input(\"Enter description: \")\n",
        "  add_expense(date, category, amount, description)\n",
        "prompt_add_expense()\n"
      ],
      "metadata": {
        "colab": {
          "base_uri": "https://localhost:8080/"
        },
        "id": "Nfj6MnCc-2ry",
        "outputId": "95ce57e6-3f31-4864-faa9-eec73753b010"
      },
      "execution_count": null,
      "outputs": [
        {
          "output_type": "stream",
          "name": "stdout",
          "text": [
            "Enter date (YYY-MM_DD): 2025-03-07\n",
            "Enter category: pets\n",
            "Enter amount: 42.00\n",
            "Enter description: dog food\n",
            "Expense added to tracker\n"
          ]
        }
      ]
    },
    {
      "cell_type": "code",
      "source": [
        "def prompt_set_monthly_budget():\n",
        "    category = input(\"Please enter category: \")\n",
        "    try:\n",
        "       amount = float(input(\"Enter budget amount: \"))\n",
        "    except ValueError:\n",
        "       print(\"Invalid amount.  Please enter numeric value and no special characters\")\n",
        "       return\n",
        "    monthly_budget = {category: amount}\n",
        "    set_monthly_budget(category, amount)\n"
      ],
      "metadata": {
        "id": "uzink1CjFYnZ"
      },
      "execution_count": 72,
      "outputs": []
    },
    {
      "cell_type": "code",
      "source": [
        "def view_monthly_budget():\n",
        "   print(\"Category\\tAmount\")\n",
        "   for category, amount in monthly_budgets.items():\n",
        "       print(f\"{category}\\t{amount}\")"
      ],
      "metadata": {
        "id": "aTRecHSkZMUq"
      },
      "execution_count": 78,
      "outputs": []
    },
    {
      "cell_type": "code",
      "source": [
        "#saving and reloading using the csv module\n",
        "import csv\n",
        "import datetime\n",
        "# for the test\n",
        "today = datetime.datetime.now().strftime(\"%Y-%m-%d\")\n",
        "filename = f\"testexpenses_{today}.csv\"\n",
        "#function to save data to csv file\n",
        "def save_expenses(filename, expenses):\n",
        "   fieldnames = [\"date\", \"category\", \"amount\", \"description\"]\n",
        "   with open(filename, mode=\"w\", newline=\"\") as csvfile:\n",
        "      writer = csv.DictWriter(csvfile, fieldnames=fieldnames)\n",
        "      writer.writeheader() #write the header row\n",
        "      for expense in expenses:\n",
        "          writer.writerow(expense)\n",
        "   print(f\"Expenses have been saved to {filename}\")\n",
        "\n",
        "save_expenses(filename, expenses)\n",
        "\n",
        "#function to load the budget\n",
        "def load_expenses(filename):\n",
        "    loaded_expenses = []\n",
        "    with open(filename, mode=\"r\", newline=\"\") as csvfile:\n",
        "       reader = csv.DictReader(csvfile)\n",
        "       for row in reader:\n",
        "           row[\"amount\"] = float(row[\"amount\"])\n",
        "           loaded_expenses.append(row)\n",
        "    print(f\"Expenses loaded from {filename}\")\n",
        "    return loaded_expenses\n",
        "load_expenses(filename)"
      ],
      "metadata": {
        "colab": {
          "base_uri": "https://localhost:8080/"
        },
        "id": "dtZaBoq6c6Jq",
        "outputId": "9f77ebb4-9119-4ef5-9aa2-560dd42214d8"
      },
      "execution_count": null,
      "outputs": [
        {
          "output_type": "stream",
          "name": "stdout",
          "text": [
            "Expenses have been saved to testexpenses_2025-03-07.csv\n",
            "Expenses loaded from testexpenses_2025-03-07.csv\n"
          ]
        },
        {
          "output_type": "execute_result",
          "data": {
            "text/plain": [
              "[{'date': '2025-03-06',\n",
              "  'category': 'food',\n",
              "  'amount': 15.78,\n",
              "  'description': 'pizza'},\n",
              " {'date': '2025-03-03',\n",
              "  'category': 'utilities',\n",
              "  'amount': 700.0,\n",
              "  'description': 'electric bill'},\n",
              " {'date': '2025-03-07',\n",
              "  'category': 'food',\n",
              "  'amount': 25.0,\n",
              "  'description': 'fish fry'}]"
            ]
          },
          "metadata": {},
          "execution_count": 54
        }
      ]
    },
    {
      "cell_type": "code",
      "source": [],
      "metadata": {
        "id": "73BUjF80cI5i"
      },
      "execution_count": null,
      "outputs": []
    },
    {
      "cell_type": "code",
      "source": [],
      "metadata": {
        "id": "2jqXeHArdABj"
      },
      "execution_count": null,
      "outputs": []
    },
    {
      "cell_type": "code",
      "source": [
        "#main menu\n",
        "def main_menu():\n",
        "\n",
        "  while True:\n",
        "    print(\"\\nExpense Tracker Main Menu\")\n",
        "    print(\"Add Expense\")\n",
        "    print(\"View Expenses\")\n",
        "    print(\"Save Expenses\")\n",
        "    print(\"Create Monthly Budget\")\n",
        "    print(\"View Monthly Budget\")\n",
        "    print(\"Modify Monthly Budget\")\n",
        "    print(\"Exit\")\n",
        "    choice = input(\"Select an option: \").strip().lower()\n",
        "\n",
        "    if choice == \"add expense\":\n",
        "       prompt_add_expense()\n",
        "    elif choice == \"view expenses\":\n",
        "        view_expenses()\n",
        "    elif choice == \"save expenses\":\n",
        "        save_expenses()\n",
        "    elif choice == \"create monthly budget\":\n",
        "        prompt_set_monthly_budget()\n",
        "    elif choice == \"view monthly budget\":\n",
        "        view_monthly_budget()\n",
        "    elif choice == \"modify monthly budget\":\n",
        "        prompt_modify_monthly_budget()\n",
        "    elif choice == \"exit\":\n",
        "        exit()\n",
        "    else:\n",
        "        print(\"Invalid Selection. Check your spelling and try again.\")\n",
        "main_menu()\n"
      ],
      "metadata": {
        "id": "0d9TCqIVhDhM",
        "colab": {
          "base_uri": "https://localhost:8080/",
          "height": 703
        },
        "outputId": "d2ba863e-e498-4999-b25a-b36aaaff2690"
      },
      "execution_count": 79,
      "outputs": [
        {
          "output_type": "stream",
          "name": "stdout",
          "text": [
            "\n",
            "Expense Tracker Main Menu\n",
            "Add Expense\n",
            "View Expenses\n",
            "Save Expenses\n",
            "Create Monthly Budget\n",
            "View Monthly Budget\n",
            "Modify Monthly Budget\n",
            "Exit\n",
            "Select an option: view monthly budget\n",
            "Category\tAmount\n",
            "car maintenance\t100.0\n",
            "\n",
            "Expense Tracker Main Menu\n",
            "Add Expense\n",
            "View Expenses\n",
            "Save Expenses\n",
            "Create Monthly Budget\n",
            "View Monthly Budget\n",
            "Modify Monthly Budget\n",
            "Exit\n"
          ]
        },
        {
          "output_type": "error",
          "ename": "KeyboardInterrupt",
          "evalue": "Interrupted by user",
          "traceback": [
            "\u001b[0;31m---------------------------------------------------------------------------\u001b[0m",
            "\u001b[0;31mKeyboardInterrupt\u001b[0m                         Traceback (most recent call last)",
            "\u001b[0;32m<ipython-input-79-2509fe708592>\u001b[0m in \u001b[0;36m<cell line: 0>\u001b[0;34m()\u001b[0m\n\u001b[1;32m     29\u001b[0m     \u001b[0;32melse\u001b[0m\u001b[0;34m:\u001b[0m\u001b[0;34m\u001b[0m\u001b[0;34m\u001b[0m\u001b[0m\n\u001b[1;32m     30\u001b[0m         \u001b[0mprint\u001b[0m\u001b[0;34m(\u001b[0m\u001b[0;34m\"Invalid Selection. Check your spelling and try again.\"\u001b[0m\u001b[0;34m)\u001b[0m\u001b[0;34m\u001b[0m\u001b[0;34m\u001b[0m\u001b[0m\n\u001b[0;32m---> 31\u001b[0;31m \u001b[0mmain_menu\u001b[0m\u001b[0;34m(\u001b[0m\u001b[0;34m)\u001b[0m\u001b[0;34m\u001b[0m\u001b[0;34m\u001b[0m\u001b[0m\n\u001b[0m",
            "\u001b[0;32m<ipython-input-79-2509fe708592>\u001b[0m in \u001b[0;36mmain_menu\u001b[0;34m()\u001b[0m\n\u001b[1;32m     11\u001b[0m     \u001b[0mprint\u001b[0m\u001b[0;34m(\u001b[0m\u001b[0;34m\"Modify Monthly Budget\"\u001b[0m\u001b[0;34m)\u001b[0m\u001b[0;34m\u001b[0m\u001b[0;34m\u001b[0m\u001b[0m\n\u001b[1;32m     12\u001b[0m     \u001b[0mprint\u001b[0m\u001b[0;34m(\u001b[0m\u001b[0;34m\"Exit\"\u001b[0m\u001b[0;34m)\u001b[0m\u001b[0;34m\u001b[0m\u001b[0;34m\u001b[0m\u001b[0m\n\u001b[0;32m---> 13\u001b[0;31m     \u001b[0mchoice\u001b[0m \u001b[0;34m=\u001b[0m \u001b[0minput\u001b[0m\u001b[0;34m(\u001b[0m\u001b[0;34m\"Select an option: \"\u001b[0m\u001b[0;34m)\u001b[0m\u001b[0;34m.\u001b[0m\u001b[0mstrip\u001b[0m\u001b[0;34m(\u001b[0m\u001b[0;34m)\u001b[0m\u001b[0;34m.\u001b[0m\u001b[0mlower\u001b[0m\u001b[0;34m(\u001b[0m\u001b[0;34m)\u001b[0m\u001b[0;34m\u001b[0m\u001b[0;34m\u001b[0m\u001b[0m\n\u001b[0m\u001b[1;32m     14\u001b[0m \u001b[0;34m\u001b[0m\u001b[0m\n\u001b[1;32m     15\u001b[0m     \u001b[0;32mif\u001b[0m \u001b[0mchoice\u001b[0m \u001b[0;34m==\u001b[0m \u001b[0;34m\"add expense\"\u001b[0m\u001b[0;34m:\u001b[0m\u001b[0;34m\u001b[0m\u001b[0;34m\u001b[0m\u001b[0m\n",
            "\u001b[0;32m/usr/local/lib/python3.11/dist-packages/ipykernel/kernelbase.py\u001b[0m in \u001b[0;36mraw_input\u001b[0;34m(self, prompt)\u001b[0m\n\u001b[1;32m   1175\u001b[0m                 \u001b[0;34m\"raw_input was called, but this frontend does not support input requests.\"\u001b[0m\u001b[0;34m\u001b[0m\u001b[0;34m\u001b[0m\u001b[0m\n\u001b[1;32m   1176\u001b[0m             )\n\u001b[0;32m-> 1177\u001b[0;31m         return self._input_request(\n\u001b[0m\u001b[1;32m   1178\u001b[0m             \u001b[0mstr\u001b[0m\u001b[0;34m(\u001b[0m\u001b[0mprompt\u001b[0m\u001b[0;34m)\u001b[0m\u001b[0;34m,\u001b[0m\u001b[0;34m\u001b[0m\u001b[0;34m\u001b[0m\u001b[0m\n\u001b[1;32m   1179\u001b[0m             \u001b[0mself\u001b[0m\u001b[0;34m.\u001b[0m\u001b[0m_parent_ident\u001b[0m\u001b[0;34m[\u001b[0m\u001b[0;34m\"shell\"\u001b[0m\u001b[0;34m]\u001b[0m\u001b[0;34m,\u001b[0m\u001b[0;34m\u001b[0m\u001b[0;34m\u001b[0m\u001b[0m\n",
            "\u001b[0;32m/usr/local/lib/python3.11/dist-packages/ipykernel/kernelbase.py\u001b[0m in \u001b[0;36m_input_request\u001b[0;34m(self, prompt, ident, parent, password)\u001b[0m\n\u001b[1;32m   1217\u001b[0m             \u001b[0;32mexcept\u001b[0m \u001b[0mKeyboardInterrupt\u001b[0m\u001b[0;34m:\u001b[0m\u001b[0;34m\u001b[0m\u001b[0;34m\u001b[0m\u001b[0m\n\u001b[1;32m   1218\u001b[0m                 \u001b[0;31m# re-raise KeyboardInterrupt, to truncate traceback\u001b[0m\u001b[0;34m\u001b[0m\u001b[0;34m\u001b[0m\u001b[0m\n\u001b[0;32m-> 1219\u001b[0;31m                 \u001b[0;32mraise\u001b[0m \u001b[0mKeyboardInterrupt\u001b[0m\u001b[0;34m(\u001b[0m\u001b[0;34m\"Interrupted by user\"\u001b[0m\u001b[0;34m)\u001b[0m \u001b[0;32mfrom\u001b[0m \u001b[0;32mNone\u001b[0m\u001b[0;34m\u001b[0m\u001b[0;34m\u001b[0m\u001b[0m\n\u001b[0m\u001b[1;32m   1220\u001b[0m             \u001b[0;32mexcept\u001b[0m \u001b[0mException\u001b[0m\u001b[0;34m:\u001b[0m\u001b[0;34m\u001b[0m\u001b[0;34m\u001b[0m\u001b[0m\n\u001b[1;32m   1221\u001b[0m                 \u001b[0mself\u001b[0m\u001b[0;34m.\u001b[0m\u001b[0mlog\u001b[0m\u001b[0;34m.\u001b[0m\u001b[0mwarning\u001b[0m\u001b[0;34m(\u001b[0m\u001b[0;34m\"Invalid Message:\"\u001b[0m\u001b[0;34m,\u001b[0m \u001b[0mexc_info\u001b[0m\u001b[0;34m=\u001b[0m\u001b[0;32mTrue\u001b[0m\u001b[0;34m)\u001b[0m\u001b[0;34m\u001b[0m\u001b[0;34m\u001b[0m\u001b[0m\n",
            "\u001b[0;31mKeyboardInterrupt\u001b[0m: Interrupted by user"
          ]
        }
      ]
    },
    {
      "cell_type": "code",
      "source": [
        "!git status\n"
      ],
      "metadata": {
        "colab": {
          "base_uri": "https://localhost:8080/"
        },
        "id": "kiVv9aj2g0tM",
        "outputId": "c8f959da-4cb1-46d9-f3a3-41e42c0d4ae6"
      },
      "execution_count": 1,
      "outputs": [
        {
          "output_type": "stream",
          "name": "stdout",
          "text": [
            "fatal: not a git repository (or any of the parent directories): .git\n"
          ]
        }
      ]
    }
  ]
}