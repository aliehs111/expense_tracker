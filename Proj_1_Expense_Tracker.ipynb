{
  "nbformat": 4,
  "nbformat_minor": 0,
  "metadata": {
    "colab": {
      "provenance": [],
      "authorship_tag": "ABX9TyMEJ74i51hPGhFMlnPoEtda",
      "include_colab_link": true
    },
    "kernelspec": {
      "name": "python3",
      "display_name": "Python 3"
    },
    "language_info": {
      "name": "python"
    }
  },
  "cells": [
    {
      "cell_type": "markdown",
      "metadata": {
        "id": "view-in-github",
        "colab_type": "text"
      },
      "source": [
        "<a href=\"https://colab.research.google.com/github/aliehs111/expense_tracker/blob/main/Proj_1_Expense_Tracker.ipynb\" target=\"_parent\"><img src=\"https://colab.research.google.com/assets/colab-badge.svg\" alt=\"Open In Colab\"/></a>"
      ]
    },
    {
      "cell_type": "code",
      "execution_count": null,
      "metadata": {
        "colab": {
          "base_uri": "https://localhost:8080/"
        },
        "id": "Y5rKo_-rywEA",
        "outputId": "14890243-9b45-4be6-91de-105e26101cfd"
      },
      "outputs": [
        {
          "output_type": "stream",
          "name": "stdout",
          "text": [
            "Expense added to tracker\n",
            "[{'date': '2025-03-06', 'category': 'food', 'amount': 15.78, 'description': 'pizza'}]\n",
            "Invalid Category.  Please choose from these categories: ('housing', 'household', 'utilities', 'food', 'medical', 'entertainment', 'investment', 'education', 'pets', 'car', 'car maintenance', 'gas')\n",
            "[{'date': '2025-03-06', 'category': 'food', 'amount': 15.78, 'description': 'pizza'}]\n",
            "Invalid Date Format.  Please enter as YYYY-MM-DD\n",
            "[{'date': '2025-03-06', 'category': 'food', 'amount': 15.78, 'description': 'pizza'}]\n",
            "Expense added to tracker\n",
            "[{'date': '2025-03-06', 'category': 'food', 'amount': 15.78, 'description': 'pizza'}, {'date': '2025-03-03', 'category': 'utilities', 'amount': 700.0, 'description': 'electric bill'}]\n"
          ]
        }
      ],
      "source": [
        "import datetime\n",
        "\n",
        "\n",
        "expenses = []\n",
        "categories = (\"housing\", \"household\", \"utilities\", \"food\", \"medical\", \"entertainment\", \"investment\", \"education\", \"pets\", \"car\", \"car maintenance\", \"gas\")\n",
        "\n",
        "#check if date is correct format\n",
        "def valid_date(date_str):\n",
        "   try:\n",
        "       datetime.datetime.strptime(date_str, \"%Y-%m-%d\")\n",
        "       return True\n",
        "   except ValueError:\n",
        "      return False\n",
        "\n",
        "\n",
        "\n",
        "#enter an expense\n",
        "\n",
        "def add_expense(date, category, amount, description):\n",
        "   if category not in categories:\n",
        "      print(\"Invalid Category.  Please choose from these categories:\", categories)\n",
        "      return\n",
        "   #if date is not correct format\n",
        "   if not valid_date(date):\n",
        "       print(\"Invalid Date Format.  Please enter as YYYY-MM-DD\")\n",
        "       return\n",
        "   #create an expense dictionary once the user input is validated\n",
        "   expense = {\n",
        "       \"date\": date,\n",
        "       \"category\": category,\n",
        "       \"amount\": amount,\n",
        "       \"description\": description\n",
        "   }\n",
        "\n",
        "   #add this expense to the current expense list\n",
        "\n",
        "   expenses.append(expense)\n",
        "   print(\"Expense added to tracker\")\n",
        "\n",
        "# test valid and invalid entries\n",
        "add_expense(\"2025-03-06\", \"food\", 15.78, \"pizza\")\n",
        "print(expenses)\n",
        "\n",
        "add_expense(\"2025-03-06\", \"plant\", 14.36, \"pothos\")\n",
        "print(expenses)\n",
        "\n",
        "add_expense(\"03-05-25\", \"car maintenance\", 500.25, \"tires\")\n",
        "print(expenses)\n",
        "\n",
        "add_expense(\"2025-03-03\", \"utilities\", 700.00, \"electric bill\")\n",
        "print(expenses)\n"
      ]
    },
    {
      "cell_type": "code",
      "source": [
        "#view expenses function\n",
        "def view_expenses():\n",
        "  if not expenses:\n",
        "    print(\"No expenses to display\")\n",
        "    return\n",
        "\n",
        "#look for expenses to display\n",
        "  for expense in expenses:\n",
        "      print(\"Date:\", expense[\"date\"])\n",
        "      print(\"Category:\", expense[\"category\"])\n",
        "      print(\"Amount:\", expense[\"amount\"])\n",
        "      print(\"Description\", expense[\"description\"])\n",
        "      print(\"-\" * 30)\n",
        "\n",
        "#call function\n",
        "view_expenses()"
      ],
      "metadata": {
        "colab": {
          "base_uri": "https://localhost:8080/"
        },
        "id": "e3sK0AjXdhdo",
        "outputId": "e1d290f8-7be4-4b88-ad9a-16284a1f8253"
      },
      "execution_count": null,
      "outputs": [
        {
          "output_type": "stream",
          "name": "stdout",
          "text": [
            "Date: 2025-03-06\n",
            "Category: food\n",
            "Amount: 15.78\n",
            "Description pizza\n",
            "------------------------------\n",
            "Date: 2025-03-03\n",
            "Category: utilities\n",
            "Amount: 700.0\n",
            "Description electric bill\n",
            "------------------------------\n"
          ]
        }
      ]
    },
    {
      "cell_type": "code",
      "source": [
        "#budget management (create budget function)\n",
        "monthly_budgets = {}\n",
        "\n",
        "def set_monthly_budget(category, amount):\n",
        "   if category not in categories:\n",
        "      print(\"Invalid Category.  Please choose from these categories:\", categories)\n",
        "      return\n",
        "   monthly_budgets[category] = amount\n",
        "   print(f\"Monthly budget for {category} has been set to {amount}\")\n",
        "\n",
        "\n",
        "def modify_monthly_budget(category, new_amount):\n",
        "    global monthly_budgets\n",
        "    if category in monthly_budgets:\n",
        "        monthly_budgets[category] = new_amount\n",
        "        print(f\"Budget for {category} modified to {new_amount}.\")\n",
        "    else:\n",
        "      print(\"Category not found in monthly budgets.  Please choose from {category}\")"
      ],
      "metadata": {
        "id": "iAvO4Tnik5zH"
      },
      "execution_count": 7,
      "outputs": []
    },
    {
      "cell_type": "code",
      "source": [
        "#prompt functions to work from main menu - use these for user input then go to actual function to do input verification and to populate the dictionaries with input.\n",
        "def prompt_add_expense():\n",
        "  date = input(\"Enter date (YYY-MM_DD): \")\n",
        "  category = input (\"Enter category: \")\n",
        "  try:\n",
        "       amount = float(input(\"Enter amount: \"))\n",
        "  except ValueError:\n",
        "    print(\"Invalid amount.  Please enter a numeric amount with no special characters\")\n",
        "    return\n",
        "  description = input(\"Enter description: \")\n",
        "  add_expense(date, category, amount, description)\n",
        "prompt_add_expense()\n"
      ],
      "metadata": {
        "id": "Nfj6MnCc-2ry",
        "colab": {
          "base_uri": "https://localhost:8080/"
        },
        "outputId": "9c73fef6-ff27-4304-b77c-50b8c0d0e281"
      },
      "execution_count": 8,
      "outputs": [
        {
          "output_type": "stream",
          "name": "stdout",
          "text": [
            "Enter date (YYY-MM_DD): 2024-03-07\n",
            "Enter category: entertainment\n",
            "Enter amount: 40\n",
            "Enter description: movie\n",
            "Expense added to tracker\n"
          ]
        }
      ]
    },
    {
      "cell_type": "code",
      "source": [
        "def prompt_set_monthly_budget():\n",
        "    category = input(\"Please enter category: \")\n",
        "    try:\n",
        "       amount = float(input(\"Enter budget amount: \"))\n",
        "    except ValueError:\n",
        "       print(\"Invalid amount.  Please enter numeric value and no special characters\")\n",
        "       return\n",
        "    monthly_budget = {category: amount}\n",
        "    set_monthly_budget(category, amount)\n"
      ],
      "metadata": {
        "id": "uzink1CjFYnZ"
      },
      "execution_count": 15,
      "outputs": []
    },
    {
      "cell_type": "code",
      "source": [
        "def view_monthly_budget():\n",
        "   print(\"Category\\tAmount\")\n",
        "   for category, amount in monthly_budgets.items():\n",
        "       print(f\"{category}\\t{amount}\")\n",
        "\n",
        "def track_monthly_budget():\n",
        "\n",
        "  #get curent month\n",
        "    current_month = datetime.datetime.now().strftime(\"%Y-%m\")\n",
        "\n",
        "   #making a dictionary to keep the running total for each category\n",
        "    spent = {category: 0.0 for category in monthly_budgets}\n",
        "   #add the expenses that occured in current month\n",
        "    for expense in expenses:\n",
        "       if expense[\"date\"].startswith(current_month):\n",
        "           category = expense[\"category\"]\n",
        "           if category in spent:\n",
        "               spent[category] += expense[\"amount\"]\n",
        "           else:\n",
        "               spent[category] = expense[\"amount\"] #if I want to allow initializing new categories - may not use this\n",
        "    header = f\"{'Category':<20}{'Spent':<15}{'Budget':<15}{'Percentage':<15}\"\n",
        "    print(header)\n",
        "    print(\"-\" * len(header))\n",
        "\n",
        "    for category, budget in monthly_budgets.items():\n",
        "       amount_spent = spent.get(category, 0.0)\n",
        "       percentage = (amount_spent / budget * 100) if budget > 0 else 0\n",
        "       print(f\"{category:<20}{amount_spent:<15.2f}{budget:<15.2f}{percentage:<15.2f}\")\n",
        "\n",
        "\n"
      ],
      "metadata": {
        "id": "aTRecHSkZMUq"
      },
      "execution_count": 35,
      "outputs": []
    },
    {
      "cell_type": "code",
      "source": [
        "#saving and reloading using the csv module\n",
        "import csv\n",
        "import datetime\n",
        "# for the test\n",
        "today = datetime.datetime.now().strftime(\"%Y-%m-%d\")\n",
        "filename = f\"testexpenses_{today}.csv\"\n",
        "#function to save data to csv file\n",
        "def save_expenses(filename, expenses):\n",
        "   fieldnames = [\"date\", \"category\", \"amount\", \"description\"]\n",
        "   with open(filename, mode=\"w\", newline=\"\") as csvfile:\n",
        "      writer = csv.DictWriter(csvfile, fieldnames=fieldnames)\n",
        "      writer.writeheader() #write the header row\n",
        "      for expense in expenses:\n",
        "          writer.writerow(expense)\n",
        "   print(f\"Expenses have been saved to {filename}\")\n",
        "\n",
        "save_expenses(filename, expenses)\n",
        "\n",
        "#function to load the budget\n",
        "def load_expenses(filename):\n",
        "    loaded_expenses = []\n",
        "    with open(filename, mode=\"r\", newline=\"\") as csvfile:\n",
        "       reader = csv.DictReader(csvfile)\n",
        "       for row in reader:\n",
        "           row[\"amount\"] = float(row[\"amount\"])\n",
        "           loaded_expenses.append(row)\n",
        "    print(f\"Expenses loaded from {filename}\")\n",
        "    return loaded_expenses\n",
        "load_expenses(filename)"
      ],
      "metadata": {
        "id": "dtZaBoq6c6Jq",
        "colab": {
          "base_uri": "https://localhost:8080/"
        },
        "outputId": "af856747-95f5-45a7-b6ac-320dbb8e59f7"
      },
      "execution_count": 12,
      "outputs": [
        {
          "output_type": "stream",
          "name": "stdout",
          "text": [
            "Expenses have been saved to testexpenses_2025-03-08.csv\n",
            "Expenses loaded from testexpenses_2025-03-08.csv\n"
          ]
        },
        {
          "output_type": "execute_result",
          "data": {
            "text/plain": [
              "[{'date': '2025-03-06',\n",
              "  'category': 'food',\n",
              "  'amount': 15.78,\n",
              "  'description': 'pizza'},\n",
              " {'date': '2025-03-03',\n",
              "  'category': 'utilities',\n",
              "  'amount': 700.0,\n",
              "  'description': 'electric bill'},\n",
              " {'date': '2024-03-07',\n",
              "  'category': 'entertainment',\n",
              "  'amount': 40.0,\n",
              "  'description': 'movie'},\n",
              " {'date': '2024-03-07',\n",
              "  'category': 'medical',\n",
              "  'amount': 52.0,\n",
              "  'description': 'dentist'}]"
            ]
          },
          "metadata": {},
          "execution_count": 12
        }
      ]
    },
    {
      "cell_type": "code",
      "source": [
        "#main menu\n",
        "def main_menu():\n",
        "\n",
        "  while True:\n",
        "    print(\"\\nExpense Tracker Main Menu\")\n",
        "    print(\"1. Add Expense\")\n",
        "    print(\"2. View Expenses\")\n",
        "    print(\"3. Create Monthly Budget\")\n",
        "    print(\"4. View Monthly Budget\")\n",
        "    print(\"5. Track Monthly Budget\")\n",
        "    print(\"6. Exit\")\n",
        "    choice = input(\"Please input the number of the menu option: \").strip().lower()\n",
        "\n",
        "    if choice == \"1\":\n",
        "       prompt_add_expense()\n",
        "    elif choice == \"2\":\n",
        "        view_expenses()\n",
        "    elif choice == \"3\":\n",
        "        prompt_set_monthly_budget()\n",
        "    elif choice == \"4\":\n",
        "        view_monthly_budget()\n",
        "    elif choice == \"5\":\n",
        "        track_monthly_budget()\n",
        "    elif choice == \"6\":\n",
        "        exit()\n",
        "    else:\n",
        "        print(\"Invalid Selection. Check your spelling and try again.\")\n",
        "main_menu()\n"
      ],
      "metadata": {
        "id": "0d9TCqIVhDhM",
        "colab": {
          "base_uri": "https://localhost:8080/"
        },
        "outputId": "b5cf65c2-f0c0-47e6-8950-a2760c1fb82d"
      },
      "execution_count": null,
      "outputs": [
        {
          "metadata": {
            "tags": null
          },
          "name": "stdout",
          "output_type": "stream",
          "text": [
            "\n",
            "Expense Tracker Main Menu\n",
            "1. Add Expense\n",
            "2. View Expenses\n",
            "3. Create Monthly Budget\n",
            "4. View Monthly Budget\n",
            "5. Track Monthly Budget\n",
            "6. Exit\n",
            "Category            Spent          Budget         Percentage     \n",
            "-----------------------------------------------------------------\n",
            "\n",
            "Expense Tracker Main Menu\n",
            "1. Add Expense\n",
            "2. View Expenses\n",
            "3. Create Monthly Budget\n",
            "4. View Monthly Budget\n",
            "5. Track Monthly Budget\n",
            "6. Exit\n",
            "Date: 2025-03-06\n",
            "Category: food\n",
            "Amount: 15.78\n",
            "Description pizza\n",
            "------------------------------\n",
            "Date: 2025-03-03\n",
            "Category: utilities\n",
            "Amount: 700.0\n",
            "Description electric bill\n",
            "------------------------------\n",
            "Date: 2024-03-07\n",
            "Category: entertainment\n",
            "Amount: 40.0\n",
            "Description movie\n",
            "------------------------------\n",
            "Date: 2024-03-07\n",
            "Category: medical\n",
            "Amount: 52.0\n",
            "Description dentist\n",
            "------------------------------\n",
            "\n",
            "Expense Tracker Main Menu\n",
            "1. Add Expense\n",
            "2. View Expenses\n",
            "3. Create Monthly Budget\n",
            "4. View Monthly Budget\n",
            "5. Track Monthly Budget\n",
            "6. Exit\n",
            "Category            Spent          Budget         Percentage     \n",
            "-----------------------------------------------------------------\n",
            "\n",
            "Expense Tracker Main Menu\n",
            "1. Add Expense\n",
            "2. View Expenses\n",
            "3. Create Monthly Budget\n",
            "4. View Monthly Budget\n",
            "5. Track Monthly Budget\n",
            "6. Exit\n"
          ]
        }
      ]
    },
    {
      "cell_type": "code",
      "source": [
        "!git status\n"
      ],
      "metadata": {
        "colab": {
          "base_uri": "https://localhost:8080/"
        },
        "id": "kiVv9aj2g0tM",
        "outputId": "c8f959da-4cb1-46d9-f3a3-41e42c0d4ae6"
      },
      "execution_count": null,
      "outputs": [
        {
          "output_type": "stream",
          "name": "stdout",
          "text": [
            "fatal: not a git repository (or any of the parent directories): .git\n"
          ]
        }
      ]
    }
  ]
}