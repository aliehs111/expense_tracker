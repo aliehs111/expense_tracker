{
  "nbformat": 4,
  "nbformat_minor": 0,
  "metadata": {
    "colab": {
      "provenance": [],
      "authorship_tag": "ABX9TyPdtwc3X6xMnTBBOcDUD4ui",
      "include_colab_link": true
    },
    "kernelspec": {
      "name": "python3",
      "display_name": "Python 3"
    },
    "language_info": {
      "name": "python"
    }
  },
  "cells": [
    {
      "cell_type": "markdown",
      "metadata": {
        "id": "view-in-github",
        "colab_type": "text"
      },
      "source": [
        "<a href=\"https://colab.research.google.com/github/aliehs111/expense_tracker/blob/main/Proj_1_Expense_Tracker.ipynb\" target=\"_parent\"><img src=\"https://colab.research.google.com/assets/colab-badge.svg\" alt=\"Open In Colab\"/></a>"
      ]
    },
    {
      "cell_type": "code",
      "execution_count": 21,
      "metadata": {
        "colab": {
          "base_uri": "https://localhost:8080/"
        },
        "id": "Y5rKo_-rywEA",
        "outputId": "6f091708-771a-4041-bc47-19945f2452ad"
      },
      "outputs": [
        {
          "output_type": "stream",
          "name": "stdout",
          "text": [
            "Expense added to tracker\n",
            "[{'date': '2025-03-06', 'category': 'food', 'amount': 15.78, 'description': 'pizza'}]\n",
            "Invalid Category.  Please choose from these categories: ('housing', 'household', 'utilities', 'food', 'medical', 'entertainment', 'investment', 'education', 'pets', 'car', 'car maintenance', 'gas')\n",
            "[{'date': '2025-03-06', 'category': 'food', 'amount': 15.78, 'description': 'pizza'}]\n",
            "Invalid Date Format.  Please enter as YYYY-MM-DD\n",
            "[{'date': '2025-03-06', 'category': 'food', 'amount': 15.78, 'description': 'pizza'}]\n"
          ]
        }
      ],
      "source": [
        "import datetime\n",
        "\n",
        "\n",
        "expenses = []\n",
        "categories = (\"housing\", \"household\", \"utilities\", \"food\", \"medical\", \"entertainment\", \"investment\", \"education\", \"pets\", \"car\", \"car maintenance\", \"gas\")\n",
        "\n",
        "#check if date is correct format\n",
        "def valid_date(date_str):\n",
        "   try:\n",
        "       datetime.datetime.strptime(date_str, \"%Y-%m-%d\")\n",
        "       return True\n",
        "   except ValueError:\n",
        "      return False\n",
        "\n",
        "\n",
        "\n",
        "#enter an expense\n",
        "\n",
        "def add_expense(date, category, amount, description):\n",
        "   if category not in categories:\n",
        "      print(\"Invalid Category.  Please choose from these categories:\", categories)\n",
        "      return\n",
        "   #if date is not correct format\n",
        "   if not valid_date(date):\n",
        "       print(\"Invalid Date Format.  Please enter as YYYY-MM-DD\")\n",
        "       return\n",
        "   #create an expense dictionary once the user input is validated\n",
        "   expense = {\n",
        "       \"date\": date,\n",
        "       \"category\": category,\n",
        "       \"amount\": amount,\n",
        "       \"description\": description\n",
        "   }\n",
        "\n",
        "   #add this expense to the current expense list\n",
        "\n",
        "   expenses.append(expense)\n",
        "   print(\"Expense added to tracker\")\n",
        "\n",
        "# test valid and invalid entries\n",
        "add_expense(\"2025-03-06\", \"food\", 15.78, \"pizza\")\n",
        "print(expenses)\n",
        "\n",
        "add_expense(\"2025-03-06\", \"plant\", 14.36, \"pothos\")\n",
        "print(expenses)\n",
        "\n",
        "add_expense(\"03-05-25\", \"car maintenance\", 500.25, \"tires\")\n",
        "print(expenses)\n",
        "\n"
      ]
    }
  ]
}