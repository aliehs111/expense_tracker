{
  "nbformat": 4,
  "nbformat_minor": 0,
  "metadata": {
    "colab": {
      "provenance": [],
      "authorship_tag": "ABX9TyOGLgaq8+gEoiv74jdGbDJO",
      "include_colab_link": true
    },
    "kernelspec": {
      "name": "python3",
      "display_name": "Python 3"
    },
    "language_info": {
      "name": "python"
    }
  },
  "cells": [
    {
      "cell_type": "markdown",
      "metadata": {
        "id": "view-in-github",
        "colab_type": "text"
      },
      "source": [
        "<a href=\"https://colab.research.google.com/github/aliehs111/expense_tracker/blob/main/Proj_1_Expense_Tracker.ipynb\" target=\"_parent\"><img src=\"https://colab.research.google.com/assets/colab-badge.svg\" alt=\"Open In Colab\"/></a>"
      ]
    },
    {
      "cell_type": "code",
      "execution_count": 24,
      "metadata": {
        "colab": {
          "base_uri": "https://localhost:8080/"
        },
        "id": "Y5rKo_-rywEA",
        "outputId": "4f1bf482-887f-476e-b5a4-ad6a1788e26a"
      },
      "outputs": [
        {
          "output_type": "stream",
          "name": "stdout",
          "text": [
            "Expense added to tracker\n",
            "[{'date': '2025-03-06', 'category': 'food', 'amount': 15.78, 'description': 'pizza'}]\n",
            "Invalid Category.  Please choose from these categories: ('housing', 'household', 'utilities', 'food', 'medical', 'entertainment', 'investment', 'education', 'pets', 'car', 'car maintenance', 'gas')\n",
            "[{'date': '2025-03-06', 'category': 'food', 'amount': 15.78, 'description': 'pizza'}]\n",
            "Invalid Date Format.  Please enter as YYYY-MM-DD\n",
            "[{'date': '2025-03-06', 'category': 'food', 'amount': 15.78, 'description': 'pizza'}]\n",
            "Expense added to tracker\n",
            "[{'date': '2025-03-06', 'category': 'food', 'amount': 15.78, 'description': 'pizza'}, {'date': '2025-03-03', 'category': 'utilities', 'amount': 700.0, 'description': 'electric bill'}]\n"
          ]
        }
      ],
      "source": [
        "import datetime\n",
        "\n",
        "\n",
        "expenses = []\n",
        "categories = (\"housing\", \"household\", \"utilities\", \"food\", \"medical\", \"entertainment\", \"investment\", \"education\", \"pets\", \"car\", \"car maintenance\", \"gas\")\n",
        "\n",
        "#check if date is correct format\n",
        "def valid_date(date_str):\n",
        "   try:\n",
        "       datetime.datetime.strptime(date_str, \"%Y-%m-%d\")\n",
        "       return True\n",
        "   except ValueError:\n",
        "      return False\n",
        "\n",
        "\n",
        "\n",
        "#enter an expense\n",
        "\n",
        "def add_expense(date, category, amount, description):\n",
        "   if category not in categories:\n",
        "      print(\"Invalid Category.  Please choose from these categories:\", categories)\n",
        "      return\n",
        "   #if date is not correct format\n",
        "   if not valid_date(date):\n",
        "       print(\"Invalid Date Format.  Please enter as YYYY-MM-DD\")\n",
        "       return\n",
        "   #create an expense dictionary once the user input is validated\n",
        "   expense = {\n",
        "       \"date\": date,\n",
        "       \"category\": category,\n",
        "       \"amount\": amount,\n",
        "       \"description\": description\n",
        "   }\n",
        "\n",
        "   #add this expense to the current expense list\n",
        "\n",
        "   expenses.append(expense)\n",
        "   print(\"Expense added to tracker\")\n",
        "\n",
        "# test valid and invalid entries\n",
        "add_expense(\"2025-03-06\", \"food\", 15.78, \"pizza\")\n",
        "print(expenses)\n",
        "\n",
        "add_expense(\"2025-03-06\", \"plant\", 14.36, \"pothos\")\n",
        "print(expenses)\n",
        "\n",
        "add_expense(\"03-05-25\", \"car maintenance\", 500.25, \"tires\")\n",
        "print(expenses)\n",
        "\n",
        "add_expense(\"2025-03-03\", \"utilities\", 700.00, \"electric bill\")\n",
        "print(expenses)\n"
      ]
    },
    {
      "cell_type": "code",
      "source": [
        "#view expenses function\n",
        "def view_expenses():\n",
        "  if not expenses:\n",
        "    print(\"No expenses to display\")\n",
        "    return\n",
        "\n",
        "# look for expenses to display\n",
        "  for expense in expenses:\n",
        "      print(\"Date:\", expense[\"date\"])\n",
        "      print(\"Category:\", expense[\"category\"])\n",
        "      print(\"Amount:\", expense[\"amount\"])\n",
        "      print(\"Description\", expense[\"description\"])\n",
        "      print(\"-\" * 30)\n",
        "\n",
        "  #call function\n",
        "view_expenses()"
      ],
      "metadata": {
        "colab": {
          "base_uri": "https://localhost:8080/"
        },
        "id": "e3sK0AjXdhdo",
        "outputId": "fe226743-17e5-4d41-9976-edfebe763b75"
      },
      "execution_count": 25,
      "outputs": [
        {
          "output_type": "stream",
          "name": "stdout",
          "text": [
            "Date: 2025-03-06\n",
            "Category: food\n",
            "Amount: 15.78\n",
            "Description pizza\n",
            "------------------------------\n",
            "Date: 2025-03-03\n",
            "Category: utilities\n",
            "Amount: 700.0\n",
            "Description electric bill\n",
            "------------------------------\n"
          ]
        }
      ]
    }
  ]
}